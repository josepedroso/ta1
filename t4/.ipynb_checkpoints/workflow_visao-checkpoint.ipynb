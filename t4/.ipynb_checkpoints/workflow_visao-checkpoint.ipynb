{
 "cells": [
  {
   "cell_type": "code",
   "execution_count": 7,
   "id": "b40ec619-ea1a-4dd2-a623-bba133253039",
   "metadata": {},
   "outputs": [],
   "source": [
    "import cv2\n",
    "import numpy as np\n",
    "histSize = max(25,2)\n",
    "ranges = [0, 160]\n",
    "\n",
    "def segmented_object(target_image, reference_image):\n",
    "    target_hsv = cv2.cvtColor(target_image, cv2.COLOR_BGR2HSV)\n",
    "    reference_hsv = cv2.cvtColor(reference_image, cv2.COLOR_BGR2HSV)\n",
    "\n",
    "    #Calcula o histograma \n",
    "    reference_hist = cv2.calcHist([reference_hsv], [0], None, [histSize], ranges, accumulate=False )\n",
    "    cv2.normalize(reference_hist, reference_hist, 0, 255, cv2.NORM_MINMAX)\n",
    "\n",
    "    back_project = cv2.calcBackProject([target_hsv], [0], reference_hist, ranges, 1)\n",
    "\n",
    "    kernel = cv2.getStructuringElement(cv2.MORPH_ELLIPSE, (5, 5))\n",
    "    cv2.filter2D(back_project, -1, kernel, back_project)\n",
    "\n",
    "    _, binary = cv2.threshold(back_project, 20, 255, cv2.THRESH_BINARY)\n",
    "\n",
    "    #remover ruídos\n",
    "    opening = cv2.morphologyEx(binary, cv2.MORPH_OPEN, kernel)\n",
    "\n",
    "    contours, _ = cv2.findContours(opening, cv2.RETR_EXTERNAL, cv2.CHAIN_APPROX_SIMPLE)\n",
    "    result = cv2.drawContours(target_image.copy(), contours, -1, (0, 255, 0), 2)\n",
    "\n",
    "    return result\n",
    "\n",
    "obj = cv2.imread('./fotos_ta3/segmentacao_paper.png')\n",
    "obj = cv2.resize(obj, (512,512))\n",
    "\n",
    "cena = cv2.imread('./fotos_ta3/IMG_20230508_174604_103.jpg')\n",
    "cena = cv2.resize(cena, (512,512))\n",
    "\n",
    "# Segmentar o objeto na imagem alvo\n",
    "segmented_image = segmented_object(cena, obj)\n",
    "\n",
    "cv2.imshow('Cena Image', cena)\n",
    "cv2.imshow('Object Finding Image', segmented_image)\n",
    "cv2.waitKey(0)\n",
    "cv2.destroyAllWindows()\n"
   ]
  },
  {
   "cell_type": "code",
   "execution_count": null,
   "id": "a4c39241-9701-4eb5-8d66-67c5c79c4cd6",
   "metadata": {},
   "outputs": [],
   "source": []
  }
 ],
 "metadata": {
  "kernelspec": {
   "display_name": "Python 3 (ipykernel)",
   "language": "python",
   "name": "python3"
  },
  "language_info": {
   "codemirror_mode": {
    "name": "ipython",
    "version": 3
   },
   "file_extension": ".py",
   "mimetype": "text/x-python",
   "name": "python",
   "nbconvert_exporter": "python",
   "pygments_lexer": "ipython3",
   "version": "3.9.13"
  }
 },
 "nbformat": 4,
 "nbformat_minor": 5
}
