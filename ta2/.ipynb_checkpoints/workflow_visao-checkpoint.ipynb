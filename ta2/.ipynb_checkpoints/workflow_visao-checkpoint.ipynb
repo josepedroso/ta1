{
 "cells": [
  {
   "cell_type": "code",
   "execution_count": null,
   "id": "923e0c43-88e7-4ebb-9dbe-bb549dd3169d",
   "metadata": {},
   "outputs": [],
   "source": [
    "import cv2\n",
    "import matplotlib.pyplot as plt\n",
    "import numpy as np\n",
    "import glob\n",
    "import yaml"
   ]
  },
  {
   "cell_type": "code",
   "execution_count": 1,
   "id": "abaf0410-f0a4-4e19-8c57-2d0cf2038705",
   "metadata": {},
   "outputs": [],
   "source": [
    "#pontos na calibração\n",
    "num_corners = (7, 7)  # (linhas, colunas)\n",
    "\n",
    "#quadrado em milímetros\n",
    "square_size = 25\n",
    "\n",
    "object_points = np.zeros((num_corners[0] * num_corners[1], 3), np.float32)\n",
    "object_points[:, :2] = np.mgrid[0:num_corners[0], 0:num_corners[1]].T.reshape(-1, 2) * square_size\n",
    "\n",
    "image_points = []\n",
    "object_points_list = []\n",
    "\n",
    "#captura de vídeo\n",
    "cap = cv2.VideoCapture(0)\n",
    "\n",
    "while True:\n",
    "    ret, frame = cap.read()\n",
    "\n",
    "    gray = cv2.cvtColor(frame, cv2.COLOR_BGR2GRAY)\n",
    "\n",
    "    # Encontra os cantos\n",
    "    ret, corners = cv2.findChessboardCorners(gray, num_corners, None)\n",
    "\n",
    "    if ret:\n",
    "        corners = cv2.cornerSubPix(gray, corners, (11, 11), (-1, -1), (cv2.TERM_CRITERIA_EPS + cv2.TERM_CRITERIA_MAX_ITER, 30, 0.001))\n",
    "\n",
    "        cv2.drawChessboardCorners(frame, num_corners, corners, ret)\n",
    "\n",
    "        image_points.append(corners.reshape(-1, 2))\n",
    "        object_points_list.append(object_points)\n",
    "          \n",
    "\n",
    "    cv2.imshow('Calibration', frame)\n",
    "\n",
    "    # pressione 'q' para sair\n",
    "    if cv2.waitKey(1) & 0xFF == ord('q'):\n",
    "        break\n",
    "\n",
    "\n",
    "cap.release()\n",
    "\n",
    "ret, camera_matrix, distortion_coefficients, rvecs, tvecs = cv2.calibrateCamera(object_points_list, image_points, gray.shape[::-1], None, None)\n",
    "\n",
    "# Imprime as matrizes de calibração\n",
    "print('Matriz de calibração:\\n', camera_matrix)\n",
    "print('Coeficientes de distorção:\\n', distortion_coefficients)\n",
    "\n",
    "# Salva as matrizes de calibração em um arquivo\n",
    "np.savez('calibration.npz', camera_matrix=camera_matrix, distortion_coefficients=distortion_coefficients)\n"
   ]
  },
  {
   "cell_type": "code",
   "execution_count": null,
   "id": "05cba688-5811-4835-848d-65cdb88365de",
   "metadata": {},
   "outputs": [],
   "source": []
  }
 ],
 "metadata": {
  "kernelspec": {
   "display_name": "Python 3 (ipykernel)",
   "language": "python",
   "name": "python3"
  },
  "language_info": {
   "codemirror_mode": {
    "name": "ipython",
    "version": 3
   },
   "file_extension": ".py",
   "mimetype": "text/x-python",
   "name": "python",
   "nbconvert_exporter": "python",
   "pygments_lexer": "ipython3",
   "version": "3.9.13"
  }
 },
 "nbformat": 4,
 "nbformat_minor": 5
}
